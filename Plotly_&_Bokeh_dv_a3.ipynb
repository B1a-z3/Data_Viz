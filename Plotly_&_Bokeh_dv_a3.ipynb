{
  "nbformat": 4,
  "nbformat_minor": 0,
  "metadata": {
    "colab": {
      "provenance": []
    },
    "kernelspec": {
      "name": "python3",
      "display_name": "Python 3"
    },
    "language_info": {
      "name": "python"
    }
  },
  "cells": [
    {
      "cell_type": "code",
      "source": [
        "import pandas as pd"
      ],
      "metadata": {
        "id": "stoNixmV5XAw"
      },
      "execution_count": 3,
      "outputs": []
    },
    {
      "cell_type": "markdown",
      "source": [
        "#<font color='orange'> **Data preprocessing**"
      ],
      "metadata": {
        "id": "tY54mW-EsG4r"
      }
    },
    {
      "cell_type": "code",
      "source": [
        "df = pd.read_csv('region_04.csv')\n",
        "df_clean = df.dropna(subset=['latitude', 'longitude'])\n",
        "columns_to_keep = ['eventid', 'iyear', 'imonth', 'iday', 'country_txt', 'region_txt', 'city', 'latitude', 'longitude', 'attacktype1_txt', 'nkill', 'nwound']\n",
        "df_clean = df_clean[columns_to_keep]"
      ],
      "metadata": {
        "id": "XY0A389L5Y8b"
      },
      "execution_count": 10,
      "outputs": []
    },
    {
      "cell_type": "markdown",
      "source": [
        "# <font color='orange'>**Stacked area chart using plotly**"
      ],
      "metadata": {
        "id": "kPkI3ss2sPCO"
      }
    },
    {
      "cell_type": "code",
      "source": [
        "import plotly.graph_objects as go\n",
        "\n",
        "attack_counts = df_clean.groupby(['iyear', 'attacktype1_txt']).size().unstack(fill_value=0)\n",
        "\n",
        "# Traces for each attack type\n",
        "fig = go.Figure()\n",
        "for attack_type in attack_counts.columns:\n",
        "    fig.add_trace(go.Scatter(\n",
        "        x=attack_counts.index,\n",
        "        y=attack_counts[attack_type],\n",
        "        mode='lines',\n",
        "        stackgroup='one',\n",
        "        name=attack_type,\n",
        "        hovertemplate='<b>Year:</b> %{x}<br><b>Attack Type:</b> ' + attack_type + '<br><b>Count:</b> %{y}'\n",
        "    ))\n",
        "\n",
        "fig.update_layout(\n",
        "    updatemenus=[\n",
        "        {\n",
        "            \"buttons\": [\n",
        "                {\"args\": [{\"y\": [attack_counts[col] for col in attack_counts.columns], \"stackgroup\": \"one\"}], \"label\": \"Stacked\", \"method\": \"update\"},\n",
        "                {\"args\": [{\"stackgroup\": \"\"}], \"label\": \"Grouped\", \"method\": \"restyle\"},\n",
        "                {\"args\": [{\"y\": [attack_counts[col] / attack_counts.sum(axis=1) for col in attack_counts.columns], \"stackgroup\": \"one\"}],\n",
        "                 \"label\": \"100% Stacked\", \"method\": \"update\"}\n",
        "            ],\n",
        "            \"direction\": \"down\",\n",
        "            \"showactive\": True,\n",
        "            \"x\": 1.15,\n",
        "            \"xanchor\": \"right\",\n",
        "            \"y\": 1.15,\n",
        "            \"yanchor\": \"top\"\n",
        "        }\n",
        "    ],\n",
        "    title=\"Attack Types Over the years\",\n",
        "    xaxis_title=\"Year\",\n",
        "    yaxis_title=\"Number of Incidents\",\n",
        "    legend_title=\"Attack Types\"\n",
        ")\n",
        "\n",
        "fig.show()"
      ],
      "metadata": {
        "colab": {
          "base_uri": "https://localhost:8080/",
          "height": 542
        },
        "id": "xMfMTrWL7qu1",
        "outputId": "4ba36628-ae80-4e0a-ecbb-8c2651490b97"
      },
      "execution_count": 11,
      "outputs": [
        {
          "output_type": "display_data",
          "data": {
            "text/html": [
              "<html>\n",
              "<head><meta charset=\"utf-8\" /></head>\n",
              "<body>\n",
              "    <div>            <script src=\"https://cdnjs.cloudflare.com/ajax/libs/mathjax/2.7.5/MathJax.js?config=TeX-AMS-MML_SVG\"></script><script type=\"text/javascript\">if (window.MathJax && window.MathJax.Hub && window.MathJax.Hub.Config) {window.MathJax.Hub.Config({SVG: {font: \"STIX-Web\"}});}</script>                <script type=\"text/javascript\">window.PlotlyConfig = {MathJaxConfig: 'local'};</script>\n",
              "        <script charset=\"utf-8\" src=\"https://cdn.plot.ly/plotly-2.35.2.min.js\"></script>                <div id=\"61b9a03c-7814-4084-9f65-9b8c48466cdb\" class=\"plotly-graph-div\" style=\"height:525px; width:100%;\"></div>            <script type=\"text/javascript\">                                    window.PLOTLYENV=window.PLOTLYENV || {};                                    if (document.getElementById(\"61b9a03c-7814-4084-9f65-9b8c48466cdb\")) {                    Plotly.newPlot(                        \"61b9a03c-7814-4084-9f65-9b8c48466cdb\",                        [{\"hovertemplate\":\"\\u003cb\\u003eYear:\\u003c\\u002fb\\u003e %{x}\\u003cbr\\u003e\\u003cb\\u003eAttack Type:\\u003c\\u002fb\\u003e Armed Assault\\u003cbr\\u003e\\u003cb\\u003eCount:\\u003c\\u002fb\\u003e %{y}\",\"mode\":\"lines\",\"name\":\"Armed Assault\",\"stackgroup\":\"one\",\"x\":[1970,1971,1973,1974,1975,1976,1977,1978,1979,1980,1981,1982,1983,1984,1985,1986,1987,1988,1989,1990,1991,1992,1994,1995,1996,1997,1998,1999,2000,2001,2002,2003,2004,2005,2006,2008,2009,2010,2011,2012,2013,2014,2015,2016,2017,2018,2019,2020],\"y\":[0,0,0,0,0,0,0,6,3,0,0,0,0,1,0,1,1,3,0,18,3,9,8,3,4,9,0,0,1,1,0,1,0,0,1,4,3,0,2,1,10,14,7,1,2,3,7,11],\"type\":\"scatter\"},{\"hovertemplate\":\"\\u003cb\\u003eYear:\\u003c\\u002fb\\u003e %{x}\\u003cbr\\u003e\\u003cb\\u003eAttack Type:\\u003c\\u002fb\\u003e Assassination\\u003cbr\\u003e\\u003cb\\u003eCount:\\u003c\\u002fb\\u003e %{y}\",\"mode\":\"lines\",\"name\":\"Assassination\",\"stackgroup\":\"one\",\"x\":[1970,1971,1973,1974,1975,1976,1977,1978,1979,1980,1981,1982,1983,1984,1985,1986,1987,1988,1989,1990,1991,1992,1994,1995,1996,1997,1998,1999,2000,2001,2002,2003,2004,2005,2006,2008,2009,2010,2011,2012,2013,2014,2015,2016,2017,2018,2019,2020],\"y\":[0,0,0,1,0,1,0,2,1,0,0,0,0,0,1,0,1,1,4,1,2,10,6,5,11,4,0,0,0,0,0,0,1,0,0,0,0,0,0,0,0,1,2,0,0,0,1,1],\"type\":\"scatter\"},{\"hovertemplate\":\"\\u003cb\\u003eYear:\\u003c\\u002fb\\u003e %{x}\\u003cbr\\u003e\\u003cb\\u003eAttack Type:\\u003c\\u002fb\\u003e Bombing\\u002fExplosion\\u003cbr\\u003e\\u003cb\\u003eCount:\\u003c\\u002fb\\u003e %{y}\",\"mode\":\"lines\",\"name\":\"Bombing\\u002fExplosion\",\"stackgroup\":\"one\",\"x\":[1970,1971,1973,1974,1975,1976,1977,1978,1979,1980,1981,1982,1983,1984,1985,1986,1987,1988,1989,1990,1991,1992,1994,1995,1996,1997,1998,1999,2000,2001,2002,2003,2004,2005,2006,2008,2009,2010,2011,2012,2013,2014,2015,2016,2017,2018,2019,2020],\"y\":[0,1,0,0,9,1,4,3,0,1,3,0,4,1,4,6,7,9,7,27,6,22,6,11,62,21,8,4,7,16,3,4,3,2,0,16,2,1,2,1,4,26,7,3,3,0,3,5],\"type\":\"scatter\"},{\"hovertemplate\":\"\\u003cb\\u003eYear:\\u003c\\u002fb\\u003e %{x}\\u003cbr\\u003e\\u003cb\\u003eAttack Type:\\u003c\\u002fb\\u003e Facility\\u002fInfrastructure Attack\\u003cbr\\u003e\\u003cb\\u003eCount:\\u003c\\u002fb\\u003e %{y}\",\"mode\":\"lines\",\"name\":\"Facility\\u002fInfrastructure Attack\",\"stackgroup\":\"one\",\"x\":[1970,1971,1973,1974,1975,1976,1977,1978,1979,1980,1981,1982,1983,1984,1985,1986,1987,1988,1989,1990,1991,1992,1994,1995,1996,1997,1998,1999,2000,2001,2002,2003,2004,2005,2006,2008,2009,2010,2011,2012,2013,2014,2015,2016,2017,2018,2019,2020],\"y\":[1,0,2,2,1,0,0,23,9,0,1,3,9,12,5,5,1,9,4,49,12,23,2,2,2,0,0,0,0,2,0,1,0,0,0,2,1,0,0,0,1,0,8,2,2,3,2,4],\"type\":\"scatter\"},{\"hovertemplate\":\"\\u003cb\\u003eYear:\\u003c\\u002fb\\u003e %{x}\\u003cbr\\u003e\\u003cb\\u003eAttack Type:\\u003c\\u002fb\\u003e Hijacking\\u003cbr\\u003e\\u003cb\\u003eCount:\\u003c\\u002fb\\u003e %{y}\",\"mode\":\"lines\",\"name\":\"Hijacking\",\"stackgroup\":\"one\",\"x\":[1970,1971,1973,1974,1975,1976,1977,1978,1979,1980,1981,1982,1983,1984,1985,1986,1987,1988,1989,1990,1991,1992,1994,1995,1996,1997,1998,1999,2000,2001,2002,2003,2004,2005,2006,2008,2009,2010,2011,2012,2013,2014,2015,2016,2017,2018,2019,2020],\"y\":[1,0,0,1,0,0,0,0,0,0,0,0,0,0,0,0,0,0,2,0,0,0,3,2,2,2,0,0,1,0,1,0,0,0,0,1,0,0,0,1,0,0,0,1,0,0,0,0],\"type\":\"scatter\"},{\"hovertemplate\":\"\\u003cb\\u003eYear:\\u003c\\u002fb\\u003e %{x}\\u003cbr\\u003e\\u003cb\\u003eAttack Type:\\u003c\\u002fb\\u003e Hostage Taking (Barricade Incident)\\u003cbr\\u003e\\u003cb\\u003eCount:\\u003c\\u002fb\\u003e %{y}\",\"mode\":\"lines\",\"name\":\"Hostage Taking (Barricade Incident)\",\"stackgroup\":\"one\",\"x\":[1970,1971,1973,1974,1975,1976,1977,1978,1979,1980,1981,1982,1983,1984,1985,1986,1987,1988,1989,1990,1991,1992,1994,1995,1996,1997,1998,1999,2000,2001,2002,2003,2004,2005,2006,2008,2009,2010,2011,2012,2013,2014,2015,2016,2017,2018,2019,2020],\"y\":[0,0,0,0,0,0,0,0,0,0,0,0,0,0,0,0,0,0,0,0,1,0,1,0,0,0,0,0,0,0,0,0,0,0,0,0,0,0,0,0,0,0,0,1,0,0,0,0],\"type\":\"scatter\"},{\"hovertemplate\":\"\\u003cb\\u003eYear:\\u003c\\u002fb\\u003e %{x}\\u003cbr\\u003e\\u003cb\\u003eAttack Type:\\u003c\\u002fb\\u003e Hostage Taking (Kidnapping)\\u003cbr\\u003e\\u003cb\\u003eCount:\\u003c\\u002fb\\u003e %{y}\",\"mode\":\"lines\",\"name\":\"Hostage Taking (Kidnapping)\",\"stackgroup\":\"one\",\"x\":[1970,1971,1973,1974,1975,1976,1977,1978,1979,1980,1981,1982,1983,1984,1985,1986,1987,1988,1989,1990,1991,1992,1994,1995,1996,1997,1998,1999,2000,2001,2002,2003,2004,2005,2006,2008,2009,2010,2011,2012,2013,2014,2015,2016,2017,2018,2019,2020],\"y\":[0,0,0,0,0,0,0,0,0,0,0,0,0,0,0,0,0,0,0,0,2,1,4,0,2,3,0,0,0,0,0,0,0,0,0,1,0,0,0,0,0,1,1,0,0,0,0,0],\"type\":\"scatter\"},{\"hovertemplate\":\"\\u003cb\\u003eYear:\\u003c\\u002fb\\u003e %{x}\\u003cbr\\u003e\\u003cb\\u003eAttack Type:\\u003c\\u002fb\\u003e Unarmed Assault\\u003cbr\\u003e\\u003cb\\u003eCount:\\u003c\\u002fb\\u003e %{y}\",\"mode\":\"lines\",\"name\":\"Unarmed Assault\",\"stackgroup\":\"one\",\"x\":[1970,1971,1973,1974,1975,1976,1977,1978,1979,1980,1981,1982,1983,1984,1985,1986,1987,1988,1989,1990,1991,1992,1994,1995,1996,1997,1998,1999,2000,2001,2002,2003,2004,2005,2006,2008,2009,2010,2011,2012,2013,2014,2015,2016,2017,2018,2019,2020],\"y\":[0,0,0,0,0,0,0,1,1,0,0,0,0,1,0,0,0,1,0,2,1,1,2,9,4,1,1,0,10,0,0,0,0,0,0,1,2,0,0,1,0,1,2,0,0,0,5,0],\"type\":\"scatter\"},{\"hovertemplate\":\"\\u003cb\\u003eYear:\\u003c\\u002fb\\u003e %{x}\\u003cbr\\u003e\\u003cb\\u003eAttack Type:\\u003c\\u002fb\\u003e Unknown\\u003cbr\\u003e\\u003cb\\u003eCount:\\u003c\\u002fb\\u003e %{y}\",\"mode\":\"lines\",\"name\":\"Unknown\",\"stackgroup\":\"one\",\"x\":[1970,1971,1973,1974,1975,1976,1977,1978,1979,1980,1981,1982,1983,1984,1985,1986,1987,1988,1989,1990,1991,1992,1994,1995,1996,1997,1998,1999,2000,2001,2002,2003,2004,2005,2006,2008,2009,2010,2011,2012,2013,2014,2015,2016,2017,2018,2019,2020],\"y\":[0,0,0,0,0,0,0,0,1,0,0,0,0,0,0,0,0,1,1,1,2,5,2,6,1,0,0,0,0,0,0,0,0,0,0,0,0,0,0,0,0,0,1,0,0,0,0,0],\"type\":\"scatter\"}],                        {\"template\":{\"data\":{\"histogram2dcontour\":[{\"type\":\"histogram2dcontour\",\"colorbar\":{\"outlinewidth\":0,\"ticks\":\"\"},\"colorscale\":[[0.0,\"#0d0887\"],[0.1111111111111111,\"#46039f\"],[0.2222222222222222,\"#7201a8\"],[0.3333333333333333,\"#9c179e\"],[0.4444444444444444,\"#bd3786\"],[0.5555555555555556,\"#d8576b\"],[0.6666666666666666,\"#ed7953\"],[0.7777777777777778,\"#fb9f3a\"],[0.8888888888888888,\"#fdca26\"],[1.0,\"#f0f921\"]]}],\"choropleth\":[{\"type\":\"choropleth\",\"colorbar\":{\"outlinewidth\":0,\"ticks\":\"\"}}],\"histogram2d\":[{\"type\":\"histogram2d\",\"colorbar\":{\"outlinewidth\":0,\"ticks\":\"\"},\"colorscale\":[[0.0,\"#0d0887\"],[0.1111111111111111,\"#46039f\"],[0.2222222222222222,\"#7201a8\"],[0.3333333333333333,\"#9c179e\"],[0.4444444444444444,\"#bd3786\"],[0.5555555555555556,\"#d8576b\"],[0.6666666666666666,\"#ed7953\"],[0.7777777777777778,\"#fb9f3a\"],[0.8888888888888888,\"#fdca26\"],[1.0,\"#f0f921\"]]}],\"heatmap\":[{\"type\":\"heatmap\",\"colorbar\":{\"outlinewidth\":0,\"ticks\":\"\"},\"colorscale\":[[0.0,\"#0d0887\"],[0.1111111111111111,\"#46039f\"],[0.2222222222222222,\"#7201a8\"],[0.3333333333333333,\"#9c179e\"],[0.4444444444444444,\"#bd3786\"],[0.5555555555555556,\"#d8576b\"],[0.6666666666666666,\"#ed7953\"],[0.7777777777777778,\"#fb9f3a\"],[0.8888888888888888,\"#fdca26\"],[1.0,\"#f0f921\"]]}],\"heatmapgl\":[{\"type\":\"heatmapgl\",\"colorbar\":{\"outlinewidth\":0,\"ticks\":\"\"},\"colorscale\":[[0.0,\"#0d0887\"],[0.1111111111111111,\"#46039f\"],[0.2222222222222222,\"#7201a8\"],[0.3333333333333333,\"#9c179e\"],[0.4444444444444444,\"#bd3786\"],[0.5555555555555556,\"#d8576b\"],[0.6666666666666666,\"#ed7953\"],[0.7777777777777778,\"#fb9f3a\"],[0.8888888888888888,\"#fdca26\"],[1.0,\"#f0f921\"]]}],\"contourcarpet\":[{\"type\":\"contourcarpet\",\"colorbar\":{\"outlinewidth\":0,\"ticks\":\"\"}}],\"contour\":[{\"type\":\"contour\",\"colorbar\":{\"outlinewidth\":0,\"ticks\":\"\"},\"colorscale\":[[0.0,\"#0d0887\"],[0.1111111111111111,\"#46039f\"],[0.2222222222222222,\"#7201a8\"],[0.3333333333333333,\"#9c179e\"],[0.4444444444444444,\"#bd3786\"],[0.5555555555555556,\"#d8576b\"],[0.6666666666666666,\"#ed7953\"],[0.7777777777777778,\"#fb9f3a\"],[0.8888888888888888,\"#fdca26\"],[1.0,\"#f0f921\"]]}],\"surface\":[{\"type\":\"surface\",\"colorbar\":{\"outlinewidth\":0,\"ticks\":\"\"},\"colorscale\":[[0.0,\"#0d0887\"],[0.1111111111111111,\"#46039f\"],[0.2222222222222222,\"#7201a8\"],[0.3333333333333333,\"#9c179e\"],[0.4444444444444444,\"#bd3786\"],[0.5555555555555556,\"#d8576b\"],[0.6666666666666666,\"#ed7953\"],[0.7777777777777778,\"#fb9f3a\"],[0.8888888888888888,\"#fdca26\"],[1.0,\"#f0f921\"]]}],\"mesh3d\":[{\"type\":\"mesh3d\",\"colorbar\":{\"outlinewidth\":0,\"ticks\":\"\"}}],\"scatter\":[{\"fillpattern\":{\"fillmode\":\"overlay\",\"size\":10,\"solidity\":0.2},\"type\":\"scatter\"}],\"parcoords\":[{\"type\":\"parcoords\",\"line\":{\"colorbar\":{\"outlinewidth\":0,\"ticks\":\"\"}}}],\"scatterpolargl\":[{\"type\":\"scatterpolargl\",\"marker\":{\"colorbar\":{\"outlinewidth\":0,\"ticks\":\"\"}}}],\"bar\":[{\"error_x\":{\"color\":\"#2a3f5f\"},\"error_y\":{\"color\":\"#2a3f5f\"},\"marker\":{\"line\":{\"color\":\"#E5ECF6\",\"width\":0.5},\"pattern\":{\"fillmode\":\"overlay\",\"size\":10,\"solidity\":0.2}},\"type\":\"bar\"}],\"scattergeo\":[{\"type\":\"scattergeo\",\"marker\":{\"colorbar\":{\"outlinewidth\":0,\"ticks\":\"\"}}}],\"scatterpolar\":[{\"type\":\"scatterpolar\",\"marker\":{\"colorbar\":{\"outlinewidth\":0,\"ticks\":\"\"}}}],\"histogram\":[{\"marker\":{\"pattern\":{\"fillmode\":\"overlay\",\"size\":10,\"solidity\":0.2}},\"type\":\"histogram\"}],\"scattergl\":[{\"type\":\"scattergl\",\"marker\":{\"colorbar\":{\"outlinewidth\":0,\"ticks\":\"\"}}}],\"scatter3d\":[{\"type\":\"scatter3d\",\"line\":{\"colorbar\":{\"outlinewidth\":0,\"ticks\":\"\"}},\"marker\":{\"colorbar\":{\"outlinewidth\":0,\"ticks\":\"\"}}}],\"scattermapbox\":[{\"type\":\"scattermapbox\",\"marker\":{\"colorbar\":{\"outlinewidth\":0,\"ticks\":\"\"}}}],\"scatterternary\":[{\"type\":\"scatterternary\",\"marker\":{\"colorbar\":{\"outlinewidth\":0,\"ticks\":\"\"}}}],\"scattercarpet\":[{\"type\":\"scattercarpet\",\"marker\":{\"colorbar\":{\"outlinewidth\":0,\"ticks\":\"\"}}}],\"carpet\":[{\"aaxis\":{\"endlinecolor\":\"#2a3f5f\",\"gridcolor\":\"white\",\"linecolor\":\"white\",\"minorgridcolor\":\"white\",\"startlinecolor\":\"#2a3f5f\"},\"baxis\":{\"endlinecolor\":\"#2a3f5f\",\"gridcolor\":\"white\",\"linecolor\":\"white\",\"minorgridcolor\":\"white\",\"startlinecolor\":\"#2a3f5f\"},\"type\":\"carpet\"}],\"table\":[{\"cells\":{\"fill\":{\"color\":\"#EBF0F8\"},\"line\":{\"color\":\"white\"}},\"header\":{\"fill\":{\"color\":\"#C8D4E3\"},\"line\":{\"color\":\"white\"}},\"type\":\"table\"}],\"barpolar\":[{\"marker\":{\"line\":{\"color\":\"#E5ECF6\",\"width\":0.5},\"pattern\":{\"fillmode\":\"overlay\",\"size\":10,\"solidity\":0.2}},\"type\":\"barpolar\"}],\"pie\":[{\"automargin\":true,\"type\":\"pie\"}]},\"layout\":{\"autotypenumbers\":\"strict\",\"colorway\":[\"#636efa\",\"#EF553B\",\"#00cc96\",\"#ab63fa\",\"#FFA15A\",\"#19d3f3\",\"#FF6692\",\"#B6E880\",\"#FF97FF\",\"#FECB52\"],\"font\":{\"color\":\"#2a3f5f\"},\"hovermode\":\"closest\",\"hoverlabel\":{\"align\":\"left\"},\"paper_bgcolor\":\"white\",\"plot_bgcolor\":\"#E5ECF6\",\"polar\":{\"bgcolor\":\"#E5ECF6\",\"angularaxis\":{\"gridcolor\":\"white\",\"linecolor\":\"white\",\"ticks\":\"\"},\"radialaxis\":{\"gridcolor\":\"white\",\"linecolor\":\"white\",\"ticks\":\"\"}},\"ternary\":{\"bgcolor\":\"#E5ECF6\",\"aaxis\":{\"gridcolor\":\"white\",\"linecolor\":\"white\",\"ticks\":\"\"},\"baxis\":{\"gridcolor\":\"white\",\"linecolor\":\"white\",\"ticks\":\"\"},\"caxis\":{\"gridcolor\":\"white\",\"linecolor\":\"white\",\"ticks\":\"\"}},\"coloraxis\":{\"colorbar\":{\"outlinewidth\":0,\"ticks\":\"\"}},\"colorscale\":{\"sequential\":[[0.0,\"#0d0887\"],[0.1111111111111111,\"#46039f\"],[0.2222222222222222,\"#7201a8\"],[0.3333333333333333,\"#9c179e\"],[0.4444444444444444,\"#bd3786\"],[0.5555555555555556,\"#d8576b\"],[0.6666666666666666,\"#ed7953\"],[0.7777777777777778,\"#fb9f3a\"],[0.8888888888888888,\"#fdca26\"],[1.0,\"#f0f921\"]],\"sequentialminus\":[[0.0,\"#0d0887\"],[0.1111111111111111,\"#46039f\"],[0.2222222222222222,\"#7201a8\"],[0.3333333333333333,\"#9c179e\"],[0.4444444444444444,\"#bd3786\"],[0.5555555555555556,\"#d8576b\"],[0.6666666666666666,\"#ed7953\"],[0.7777777777777778,\"#fb9f3a\"],[0.8888888888888888,\"#fdca26\"],[1.0,\"#f0f921\"]],\"diverging\":[[0,\"#8e0152\"],[0.1,\"#c51b7d\"],[0.2,\"#de77ae\"],[0.3,\"#f1b6da\"],[0.4,\"#fde0ef\"],[0.5,\"#f7f7f7\"],[0.6,\"#e6f5d0\"],[0.7,\"#b8e186\"],[0.8,\"#7fbc41\"],[0.9,\"#4d9221\"],[1,\"#276419\"]]},\"xaxis\":{\"gridcolor\":\"white\",\"linecolor\":\"white\",\"ticks\":\"\",\"title\":{\"standoff\":15},\"zerolinecolor\":\"white\",\"automargin\":true,\"zerolinewidth\":2},\"yaxis\":{\"gridcolor\":\"white\",\"linecolor\":\"white\",\"ticks\":\"\",\"title\":{\"standoff\":15},\"zerolinecolor\":\"white\",\"automargin\":true,\"zerolinewidth\":2},\"scene\":{\"xaxis\":{\"backgroundcolor\":\"#E5ECF6\",\"gridcolor\":\"white\",\"linecolor\":\"white\",\"showbackground\":true,\"ticks\":\"\",\"zerolinecolor\":\"white\",\"gridwidth\":2},\"yaxis\":{\"backgroundcolor\":\"#E5ECF6\",\"gridcolor\":\"white\",\"linecolor\":\"white\",\"showbackground\":true,\"ticks\":\"\",\"zerolinecolor\":\"white\",\"gridwidth\":2},\"zaxis\":{\"backgroundcolor\":\"#E5ECF6\",\"gridcolor\":\"white\",\"linecolor\":\"white\",\"showbackground\":true,\"ticks\":\"\",\"zerolinecolor\":\"white\",\"gridwidth\":2}},\"shapedefaults\":{\"line\":{\"color\":\"#2a3f5f\"}},\"annotationdefaults\":{\"arrowcolor\":\"#2a3f5f\",\"arrowhead\":0,\"arrowwidth\":1},\"geo\":{\"bgcolor\":\"white\",\"landcolor\":\"#E5ECF6\",\"subunitcolor\":\"white\",\"showland\":true,\"showlakes\":true,\"lakecolor\":\"white\"},\"title\":{\"x\":0.05},\"mapbox\":{\"style\":\"light\"}}},\"updatemenus\":[{\"buttons\":[{\"args\":[{\"y\":[[0,0,0,0,0,0,0,6,3,0,0,0,0,1,0,1,1,3,0,18,3,9,8,3,4,9,0,0,1,1,0,1,0,0,1,4,3,0,2,1,10,14,7,1,2,3,7,11],[0,0,0,1,0,1,0,2,1,0,0,0,0,0,1,0,1,1,4,1,2,10,6,5,11,4,0,0,0,0,0,0,1,0,0,0,0,0,0,0,0,1,2,0,0,0,1,1],[0,1,0,0,9,1,4,3,0,1,3,0,4,1,4,6,7,9,7,27,6,22,6,11,62,21,8,4,7,16,3,4,3,2,0,16,2,1,2,1,4,26,7,3,3,0,3,5],[1,0,2,2,1,0,0,23,9,0,1,3,9,12,5,5,1,9,4,49,12,23,2,2,2,0,0,0,0,2,0,1,0,0,0,2,1,0,0,0,1,0,8,2,2,3,2,4],[1,0,0,1,0,0,0,0,0,0,0,0,0,0,0,0,0,0,2,0,0,0,3,2,2,2,0,0,1,0,1,0,0,0,0,1,0,0,0,1,0,0,0,1,0,0,0,0],[0,0,0,0,0,0,0,0,0,0,0,0,0,0,0,0,0,0,0,0,1,0,1,0,0,0,0,0,0,0,0,0,0,0,0,0,0,0,0,0,0,0,0,1,0,0,0,0],[0,0,0,0,0,0,0,0,0,0,0,0,0,0,0,0,0,0,0,0,2,1,4,0,2,3,0,0,0,0,0,0,0,0,0,1,0,0,0,0,0,1,1,0,0,0,0,0],[0,0,0,0,0,0,0,1,1,0,0,0,0,1,0,0,0,1,0,2,1,1,2,9,4,1,1,0,10,0,0,0,0,0,0,1,2,0,0,1,0,1,2,0,0,0,5,0],[0,0,0,0,0,0,0,0,1,0,0,0,0,0,0,0,0,1,1,1,2,5,2,6,1,0,0,0,0,0,0,0,0,0,0,0,0,0,0,0,0,0,1,0,0,0,0,0]],\"stackgroup\":\"one\"}],\"label\":\"Stacked\",\"method\":\"update\"},{\"args\":[{\"stackgroup\":\"\"}],\"label\":\"Grouped\",\"method\":\"restyle\"},{\"args\":[{\"y\":[[0.0,0.0,0.0,0.0,0.0,0.0,0.0,0.17142857142857143,0.2,0.0,0.0,0.0,0.0,0.06666666666666667,0.0,0.08333333333333333,0.1,0.125,0.0,0.1836734693877551,0.10344827586206896,0.1267605633802817,0.23529411764705882,0.07894736842105263,0.045454545454545456,0.225,0.0,0.0,0.05263157894736842,0.05263157894736842,0.0,0.16666666666666666,0.0,0.0,1.0,0.16,0.375,0.0,0.5,0.25,0.6666666666666666,0.32558139534883723,0.25,0.125,0.2857142857142857,0.5,0.3888888888888889,0.5238095238095238],[0.0,0.0,0.0,0.25,0.0,0.5,0.0,0.05714285714285714,0.06666666666666667,0.0,0.0,0.0,0.0,0.0,0.1,0.0,0.1,0.041666666666666664,0.2222222222222222,0.01020408163265306,0.06896551724137931,0.14084507042253522,0.17647058823529413,0.13157894736842105,0.125,0.1,0.0,0.0,0.0,0.0,0.0,0.0,0.25,0.0,0.0,0.0,0.0,0.0,0.0,0.0,0.0,0.023255813953488372,0.07142857142857142,0.0,0.0,0.0,0.05555555555555555,0.047619047619047616],[0.0,1.0,0.0,0.0,0.9,0.5,1.0,0.08571428571428572,0.0,1.0,0.75,0.0,0.3076923076923077,0.06666666666666667,0.4,0.5,0.7,0.375,0.3888888888888889,0.2755102040816326,0.20689655172413793,0.30985915492957744,0.17647058823529413,0.2894736842105263,0.7045454545454546,0.525,0.8888888888888888,1.0,0.3684210526315789,0.8421052631578947,0.75,0.6666666666666666,0.75,1.0,0.0,0.64,0.25,1.0,0.5,0.25,0.26666666666666666,0.6046511627906976,0.25,0.375,0.42857142857142855,0.0,0.16666666666666666,0.23809523809523808],[0.5,0.0,1.0,0.5,0.1,0.0,0.0,0.6571428571428571,0.6,0.0,0.25,1.0,0.6923076923076923,0.8,0.5,0.4166666666666667,0.1,0.375,0.2222222222222222,0.5,0.41379310344827586,0.323943661971831,0.058823529411764705,0.05263157894736842,0.022727272727272728,0.0,0.0,0.0,0.0,0.10526315789473684,0.0,0.16666666666666666,0.0,0.0,0.0,0.08,0.125,0.0,0.0,0.0,0.06666666666666667,0.0,0.2857142857142857,0.25,0.2857142857142857,0.5,0.1111111111111111,0.19047619047619047],[0.5,0.0,0.0,0.25,0.0,0.0,0.0,0.0,0.0,0.0,0.0,0.0,0.0,0.0,0.0,0.0,0.0,0.0,0.1111111111111111,0.0,0.0,0.0,0.08823529411764706,0.05263157894736842,0.022727272727272728,0.05,0.0,0.0,0.05263157894736842,0.0,0.25,0.0,0.0,0.0,0.0,0.04,0.0,0.0,0.0,0.25,0.0,0.0,0.0,0.125,0.0,0.0,0.0,0.0],[0.0,0.0,0.0,0.0,0.0,0.0,0.0,0.0,0.0,0.0,0.0,0.0,0.0,0.0,0.0,0.0,0.0,0.0,0.0,0.0,0.034482758620689655,0.0,0.029411764705882353,0.0,0.0,0.0,0.0,0.0,0.0,0.0,0.0,0.0,0.0,0.0,0.0,0.0,0.0,0.0,0.0,0.0,0.0,0.0,0.0,0.125,0.0,0.0,0.0,0.0],[0.0,0.0,0.0,0.0,0.0,0.0,0.0,0.0,0.0,0.0,0.0,0.0,0.0,0.0,0.0,0.0,0.0,0.0,0.0,0.0,0.06896551724137931,0.014084507042253521,0.11764705882352941,0.0,0.022727272727272728,0.075,0.0,0.0,0.0,0.0,0.0,0.0,0.0,0.0,0.0,0.04,0.0,0.0,0.0,0.0,0.0,0.023255813953488372,0.03571428571428571,0.0,0.0,0.0,0.0,0.0],[0.0,0.0,0.0,0.0,0.0,0.0,0.0,0.02857142857142857,0.06666666666666667,0.0,0.0,0.0,0.0,0.06666666666666667,0.0,0.0,0.0,0.041666666666666664,0.0,0.02040816326530612,0.034482758620689655,0.014084507042253521,0.058823529411764705,0.23684210526315788,0.045454545454545456,0.025,0.1111111111111111,0.0,0.5263157894736842,0.0,0.0,0.0,0.0,0.0,0.0,0.04,0.25,0.0,0.0,0.25,0.0,0.023255813953488372,0.07142857142857142,0.0,0.0,0.0,0.2777777777777778,0.0],[0.0,0.0,0.0,0.0,0.0,0.0,0.0,0.0,0.06666666666666667,0.0,0.0,0.0,0.0,0.0,0.0,0.0,0.0,0.041666666666666664,0.05555555555555555,0.01020408163265306,0.06896551724137931,0.07042253521126761,0.058823529411764705,0.15789473684210525,0.011363636363636364,0.0,0.0,0.0,0.0,0.0,0.0,0.0,0.0,0.0,0.0,0.0,0.0,0.0,0.0,0.0,0.0,0.0,0.03571428571428571,0.0,0.0,0.0,0.0,0.0]],\"stackgroup\":\"one\"}],\"label\":\"100% Stacked\",\"method\":\"update\"}],\"direction\":\"down\",\"showactive\":true,\"x\":1.15,\"xanchor\":\"right\",\"y\":1.15,\"yanchor\":\"top\"}],\"title\":{\"text\":\"Attack Types Over the years\"},\"xaxis\":{\"title\":{\"text\":\"Year\"}},\"yaxis\":{\"title\":{\"text\":\"Number of Incidents\"}},\"legend\":{\"title\":{\"text\":\"Attack Types\"}}},                        {\"responsive\": true}                    ).then(function(){\n",
              "                            \n",
              "var gd = document.getElementById('61b9a03c-7814-4084-9f65-9b8c48466cdb');\n",
              "var x = new MutationObserver(function (mutations, observer) {{\n",
              "        var display = window.getComputedStyle(gd).display;\n",
              "        if (!display || display === 'none') {{\n",
              "            console.log([gd, 'removed!']);\n",
              "            Plotly.purge(gd);\n",
              "            observer.disconnect();\n",
              "        }}\n",
              "}});\n",
              "\n",
              "// Listen for the removal of the full notebook cells\n",
              "var notebookContainer = gd.closest('#notebook-container');\n",
              "if (notebookContainer) {{\n",
              "    x.observe(notebookContainer, {childList: true});\n",
              "}}\n",
              "\n",
              "// Listen for the clearing of the current output cell\n",
              "var outputEl = gd.closest('.output');\n",
              "if (outputEl) {{\n",
              "    x.observe(outputEl, {childList: true});\n",
              "}}\n",
              "\n",
              "                        })                };                            </script>        </div>\n",
              "</body>\n",
              "</html>"
            ]
          },
          "metadata": {}
        }
      ]
    },
    {
      "cell_type": "markdown",
      "source": [
        "# <font color='orange'>**Interactive Scatter plot using Bokeh**"
      ],
      "metadata": {
        "id": "ugPEElDdsWYK"
      }
    },
    {
      "cell_type": "code",
      "source": [
        "from bokeh.plotting import figure, show\n",
        "from bokeh.models import ColumnDataSource, HoverTool, Slider, CustomJS, CategoricalColorMapper, Legend, LegendItem\n",
        "from bokeh.layouts import column\n",
        "from bokeh.io import output_file\n",
        "from bokeh.palettes import Category20\n",
        "\n",
        "# Filling missing values with 0 to avoid bias\n",
        "df = pd.read_csv('region_04.csv')\n",
        "df.fillna({'nkill': 0, 'nwound': 0}, inplace=True)\n",
        "df['total_casualties'] = df['nkill'] + df['nwound']\n",
        "\n",
        "unique_targets = df['targtype1_txt'].unique()\n",
        "color_palette = Category20[len(unique_targets)] if len(unique_targets) <= 20 else Category20[20]\n",
        "color_map = dict(zip(unique_targets, color_palette))\n",
        "\n",
        "df['color'] = df['targtype1_txt'].map(color_map)\n",
        "\n",
        "source = ColumnDataSource(df)\n",
        "\n",
        "# Scatter plot\n",
        "p = figure(\n",
        "    title=\"Target Types and Casualties\",\n",
        "    x_axis_label=\"Number of Killed\",\n",
        "    y_axis_label=\"Number of Wounded\",\n",
        "    tools=\"pan,wheel_zoom,box_zoom,reset\",\n",
        ")\n",
        "\n",
        "scatter = p.scatter(\n",
        "    x='nkill', y='nwound', source=source,\n",
        "    size='total_casualties', fill_alpha=0.6,\n",
        "    line_color=\"black\", color='color', legend_field=\"targtype1_txt\"\n",
        ")\n",
        "\n",
        "# Hover tool\n",
        "p.add_tools(HoverTool(tooltips=[\n",
        "    (\"Target\", \"@targtype1_txt\"),\n",
        "    (\"Killed\", \"@nkill\"),\n",
        "    (\"Wounded\", \"@nwound\"),\n",
        "    (\"Total Casualties\", \"@total_casualties\")\n",
        "]))\n",
        "\n",
        "# slider for filtering by year\n",
        "year_slider = Slider(start=df['iyear'].min(), end=df['iyear'].max(), value=df['iyear'].min(), step=1, title=\"Year\")\n",
        "\n",
        "# Convert DataFrame to a dictionary format for JavaScript\n",
        "df_dict = df.to_dict(orient=\"list\")\n",
        "\n",
        "# JavaScript callback for filtering\n",
        "callback = CustomJS(args=dict(source=source, df_dict=df_dict, slider=year_slider), code=\"\"\"\n",
        "    var data = source.data;\n",
        "    var all_data = df_dict;\n",
        "    var selected_year = slider.value;\n",
        "\n",
        "    var nkill = [];\n",
        "    var nwound = [];\n",
        "    var total_casualties = [];\n",
        "    var targtype1_txt = [];\n",
        "    var color = [];\n",
        "\n",
        "    for (var i = 0; i < all_data['iyear'].length; i++) {\n",
        "        if (all_data['iyear'][i] == selected_year) {\n",
        "            nkill.push(all_data[\"nkill\"][i]);\n",
        "            nwound.push(all_data[\"nwound\"][i]);\n",
        "            total_casualties.push(all_data[\"total_casualties\"][i]);\n",
        "            targtype1_txt.push(all_data[\"targtype1_txt\"][i]);\n",
        "            color.push(all_data[\"color\"][i]);\n",
        "        }\n",
        "    }\n",
        "\n",
        "    data[\"nkill\"] = nkill;\n",
        "    data[\"nwound\"] = nwound;\n",
        "    data[\"total_casualties\"] = total_casualties;\n",
        "    data[\"targtype1_txt\"] = targtype1_txt;\n",
        "    data[\"color\"] = color;\n",
        "\n",
        "    source.change.emit();\n",
        "\"\"\")\n",
        "\n",
        "year_slider.js_on_change('value', callback)\n",
        "\n",
        "# saving as html file\n",
        "layout = column(year_slider, p)\n",
        "output_file(\"scatter_plot.html\")\n",
        "show(layout)"
      ],
      "metadata": {
        "id": "CAV-Q3IVc_2c"
      },
      "execution_count": 9,
      "outputs": []
    }
  ]
}